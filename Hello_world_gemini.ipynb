{
  "nbformat": 4,
  "nbformat_minor": 0,
  "metadata": {
    "colab": {
      "provenance": [],
      "authorship_tag": "ABX9TyPEgFdX1KzzfnQ7+RyvyNoc",
      "include_colab_link": true
    },
    "kernelspec": {
      "name": "python3",
      "display_name": "Python 3"
    },
    "language_info": {
      "name": "python"
    }
  },
  "cells": [
    {
      "cell_type": "markdown",
      "metadata": {
        "id": "view-in-github",
        "colab_type": "text"
      },
      "source": [
        "<a href=\"https://colab.research.google.com/github/rahmangamer12/Projects/blob/main/Hello_world_gemini.ipynb\" target=\"_parent\"><img src=\"https://colab.research.google.com/assets/colab-badge.svg\" alt=\"Open In Colab\"/></a>"
      ]
    },
    {
      "cell_type": "markdown",
      "source": [
        "**Step 1: Install Required Libraries**"
      ],
      "metadata": {
        "id": "W57sJj4WG080"
      }
    },
    {
      "cell_type": "code",
      "source": [
        "!pip install langchain"
      ],
      "metadata": {
        "id": "9AXEtaWSV-Vh"
      },
      "execution_count": null,
      "outputs": []
    },
    {
      "cell_type": "code",
      "source": [
        "!pip install google-generativeai"
      ],
      "metadata": {
        "id": "LddkAANAcKgL"
      },
      "execution_count": null,
      "outputs": []
    },
    {
      "cell_type": "markdown",
      "source": [
        "**Step 2: Import  Required Libraries**"
      ],
      "metadata": {
        "id": "y6cB8uO2F1wV"
      }
    },
    {
      "cell_type": "code",
      "source": [
        "# Importing Required Libraries\n",
        "import os\n",
        "from langchain_google_genai import ChatGoogleGenerativeAI\n",
        "from langchain.prompts import PromptTemplate\n",
        "from langchain.chains import LLMChain"
      ],
      "metadata": {
        "id": "hcHRxMDkGB_l"
      },
      "execution_count": null,
      "outputs": []
    },
    {
      "cell_type": "markdown",
      "source": [
        "**Step 3: Load API key from environment variable (most secure)**"
      ],
      "metadata": {
        "id": "rgiveXjJGWQ8"
      }
    },
    {
      "cell_type": "code",
      "source": [
        "# Load Api Key (Most Secure)\n",
        "api_key = os.environ.get('GOOGLE_API_KEY')"
      ],
      "metadata": {
        "id": "-OekLyEoGY0Z"
      },
      "execution_count": null,
      "outputs": []
    },
    {
      "cell_type": "markdown",
      "source": [
        "**Configure the Gemini Flash Model**"
      ],
      "metadata": {
        "id": "6Smvw3uTGMq8"
      }
    },
    {
      "cell_type": "code",
      "source": [
        "# Use the correct LLM class and model\n",
        "llm = ChatGoogleGenerativeAI(\n",
        "    model=\"gemini-pro\", # Use gemini-pro or gemini-ultra\n",
        "    google_api_key=api_key,  # Pass the API key\n",
        "    temperature=0.7, # Set temperature parameter\n",
        ")"
      ],
      "metadata": {
        "id": "6pr-_cqZGRVw"
      },
      "execution_count": null,
      "outputs": []
    },
    {
      "cell_type": "markdown",
      "source": [
        "**Step 4: Create a Prompt Templateb**"
      ],
      "metadata": {
        "id": "I1DE-FI3HfLm"
      }
    },
    {
      "cell_type": "code",
      "source": [
        "# Create a prompt template\n",
        "prompt_template = PromptTemplate(\n",
        "    input_variables=[\"question\"],\n",
        "    template=\"You are a helpful assistant. Answer the following question:\\n\\n{question}\"\n",
        ")"
      ],
      "metadata": {
        "id": "gne6yj2GHh70"
      },
      "execution_count": null,
      "outputs": []
    },
    {
      "cell_type": "markdown",
      "source": [
        "**Step 5: Build the LangChain Pipeline**"
      ],
      "metadata": {
        "id": "zBEhavF3HxlN"
      }
    },
    {
      "cell_type": "code",
      "source": [
        "# Create the LLM Chain\n",
        "chain = LLMChain(llm=llm, prompt=prompt_template)"
      ],
      "metadata": {
        "id": "Npr4UTtVH1Z2"
      },
      "execution_count": null,
      "outputs": []
    },
    {
      "cell_type": "markdown",
      "source": [
        "**Step 6: Run the Hello World Example**"
      ],
      "metadata": {
        "id": "jw5scPOuH-ud"
      }
    },
    {
      "cell_type": "code",
      "source": [
        "# Run the chain with a sample question\n",
        "question = \"What is Ai?\"\n",
        "response = chain.run({\"question\": question})\n",
        "\n",
        "print(\"Answer:\", response)"
      ],
      "metadata": {
        "colab": {
          "base_uri": "https://localhost:8080/"
        },
        "id": "c8GW2xY9IEOD",
        "outputId": "43e8d6ab-822f-4014-b61f-0e82650bf597"
      },
      "execution_count": null,
      "outputs": [
        {
          "output_type": "stream",
          "name": "stdout",
          "text": [
            "Answer: Artificial intelligence (AI) refers to the simulation of human intelligence processes by machines, especially computer systems. It encompasses tasks such as learning, reasoning, problem-solving, perception, and decision-making. AI systems are designed to perform tasks that typically require human intelligence, such as understanding natural language, recognizing patterns, making predictions, and optimizing complex systems. The field of AI research has a long history, dating back to the 1950s, and has made significant advancements in recent years due to the availability of vast amounts of data, powerful computing resources, and sophisticated algorithms.\n"
          ]
        }
      ]
    }
  ]
}